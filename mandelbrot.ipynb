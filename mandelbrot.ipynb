{
 "metadata": {
  "language_info": {
   "codemirror_mode": {
    "name": "ipython",
    "version": 3
   },
   "file_extension": ".py",
   "mimetype": "text/x-python",
   "name": "python",
   "nbconvert_exporter": "python",
   "pygments_lexer": "ipython3",
   "version": "3.7.4-final"
  },
  "orig_nbformat": 2,
  "kernelspec": {
   "name": "python37464bit69f25a9e526a431ba74f95b55d475c31",
   "display_name": "Python 3.7.4 64-bit"
  }
 },
 "nbformat": 4,
 "nbformat_minor": 2,
 "cells": [
  {
   "cell_type": "code",
   "execution_count": 1,
   "metadata": {},
   "outputs": [],
   "source": [
    "import numpy as np\n",
    "import cmath\n",
    "import math\n",
    "import matplotlib.pyplot as plt\n",
    "import random\n",
    "from tqdm import tqdm"
   ]
  },
  {
   "cell_type": "code",
   "execution_count": 2,
   "metadata": {},
   "outputs": [],
   "source": [
    "res = 2160\n",
    "view = np.array([[-2, 1], [-1.5, 1.5]])\n",
    "\n",
    "def function(z, c):\n",
    "\treturn z**2 + c\n",
    "\n",
    "def recursive(f, n):\n",
    "\tdef f1(x, *args):\n",
    "\t\tfor i in range(n):\n",
    "\t\t\tx = f(x, *args)\n",
    "\t\treturn x\n",
    "\treturn f1\n",
    "\n",
    "\n",
    "\n",
    "cc = 0\n",
    "pts = 1_000_000\n",
    "its = 1_000"
   ]
  },
  {
   "cell_type": "code",
   "execution_count": null,
   "metadata": {
    "tags": []
   },
   "outputs": [],
   "source": [
    "l=[]\n",
    "cc = 0\n",
    "for i in tqdm(range(pts)):\n",
    "    z = np.random.rand(2) * (view[:,1] - view[:,0]) + view[:, 0]\n",
    "    z = z[0]+ 1j*z[1]\n",
    "    c = z\n",
    "\n",
    "    if (np.abs(c)**2) * (8 * np.abs(c)**2 - 3) <= 3/32 - c.real:\n",
    "        continue\n",
    "    \n",
    "    z = 0\n",
    "\n",
    "    n = 0\n",
    "    l1 = []\n",
    "    while np.abs(z) < 2 and n < its:\n",
    "        z = function(z, c)\n",
    "        n += 1\n",
    "        l1.append(np.array((z.real, z.imag, n)))\n",
    "    if np.abs(z) >= 2:\n",
    "        cc += 1\n",
    "        l.extend(l1)\n",
    "print(cc/(pts))"
   ]
  },
  {
   "cell_type": "code",
   "execution_count": null,
   "metadata": {
    "tags": []
   },
   "outputs": [],
   "source": [
    "l=[]\n",
    "cc = 0\n",
    "z = np.random.rand(pts, 2) * (view[:,1] - view[:,0]) + view[:, 0]\n",
    "z = z[:,0]+ 1j*z[:,1]\n",
    "c = np.copy(z)\n",
    "\n",
    "x = np.logical_not((np.abs(c)**2) * (8 * np.abs(c)**2 - 3) <= 3/32 - c.real)\n",
    "c = c[x]\n",
    "\n",
    "z = np.zeros_like(c)\n",
    "n = 0\n",
    "l1 = []\n",
    "\n",
    "ind = np.arange(z.shape[0])\n",
    "\n",
    "for i in tqdm(range(its)):\n",
    "    z = function(z, c)\n",
    "    n += 1\n",
    "    l1.append([z.copy(), ind.copy(), n])\n",
    "\n",
    "    x = np.abs(z) < 2\n",
    "    c = c[x]\n",
    "    z = z[x]\n",
    "    ind = ind[x]"
   ]
  },
  {
   "cell_type": "code",
   "execution_count": null,
   "metadata": {
    "tags": []
   },
   "outputs": [],
   "source": [
    "print(len(l1))\n",
    "l = []\n",
    "ll = []\n",
    "for a in tqdm(l1):\n",
    "    x = np.logical_not(np.isin(a[1], ind))\n",
    "    l2 = np.stack((a[0][x].real, a[0][x].imag, np.full(a[0][x].shape, a[2]))).T\n",
    "    l.extend(l2.tolist())\n",
    "\n",
    "ll = [[e[0] for e in l], [e[1] for e in l], [e[2] for e in l]]\n",
    "print(len(l))"
   ]
  },
  {
   "cell_type": "code",
   "execution_count": null,
   "metadata": {
    "tags": []
   },
   "outputs": [],
   "source": [
    "print(l[550000])"
   ]
  },
  {
   "cell_type": "code",
   "execution_count": null,
   "metadata": {
    "tags": [
     "outputPrepend"
    ]
   },
   "outputs": [],
   "source": [
    "density = np.zeros((res, res), dtype=np.float32)\n",
    "density2 = np.zeros((res, res), dtype=np.float32)\n",
    "for z in tqdm(l):\n",
    "    zz = z[0:2]\n",
    "    it = z[2]\n",
    "    n = res * (zz - view[:, 0]) / (view[:,1] - view[:,0])\n",
    "\n",
    "    if (n >= res - 1).any() or (n < 0).any():\n",
    "        continue\n",
    "\n",
    "    x, y = np.floor(n)\n",
    "    try:\n",
    "        x, y = int(x), int(y)\n",
    "    except ValueError:\n",
    "        continue\n",
    "\n",
    "    if True:\n",
    "        density2[x, y] += it\n",
    "        density[x, y] += 1\n",
    "    else:\n",
    "        xF = float(n[0])%1.0\n",
    "        yF = float(n[1])%1.0\n",
    "        density[x, y] += (xF + yF)/4\n",
    "        density[x + 1, y] += (1 - xF + yF)/4\n",
    "        density[x, y + 1] += (xF + 1 - yF)/4\n",
    "        density[x + 1, y + 1] += (2 - xF - yF)/4"
   ]
  },
  {
   "cell_type": "code",
   "execution_count": null,
   "metadata": {},
   "outputs": [],
   "source": [
    "density = np.zeros((res, res), dtype=np.float32)\n",
    "density2 = np.zeros((res, res), dtype=np.float32)\n",
    "\n"
   ]
  },
  {
   "cell_type": "code",
   "execution_count": null,
   "metadata": {},
   "outputs": [],
   "source": [
    "#final = np.mod(density2, 20)/density\n",
    "final = density2.copy()/30000\n",
    "final = np.sqrt(final)\n",
    "#final = np.log(1+final)\n",
    "\n",
    "vmax = 1\n",
    "plt.imshow(final, cmap='Greys_r', vmin=0, vmax=vmax)\n",
    "plt.show()"
   ]
  },
  {
   "cell_type": "code",
   "execution_count": null,
   "metadata": {},
   "outputs": [],
   "source": [
    "plt.imsave('t13.png',final, cmap='Greys_r', vmin=0, vmax=vmax)"
   ]
  },
  {
   "cell_type": "code",
   "execution_count": null,
   "metadata": {},
   "outputs": [],
   "source": [
    "import pickle\n",
    "with open('saved.dat', \"wb\") as f:\n",
    "    pickle.dump(l, f)"
   ]
  }
 ]
}